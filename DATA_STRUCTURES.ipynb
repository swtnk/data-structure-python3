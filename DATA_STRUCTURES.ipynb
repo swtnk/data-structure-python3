{
  "nbformat": 4,
  "nbformat_minor": 0,
  "metadata": {
    "colab": {
      "name": "DATA STRUCTURES.ipynb",
      "provenance": [],
      "collapsed_sections": [],
      "include_colab_link": true
    },
    "kernelspec": {
      "name": "python3",
      "display_name": "Python 3"
    }
  },
  "cells": [
    {
      "cell_type": "markdown",
      "metadata": {
        "id": "view-in-github",
        "colab_type": "text"
      },
      "source": [
        "<a href=\"https://colab.research.google.com/github/swtnk/data-structures-python3/blob/master/DATA_STRUCTURES.ipynb\" target=\"_parent\"><img src=\"https://colab.research.google.com/assets/colab-badge.svg\" alt=\"Open In Colab\"/></a>"
      ]
    },
    {
      "cell_type": "markdown",
      "metadata": {
        "id": "wEJU-V6BpPE_",
        "colab_type": "text"
      },
      "source": [
        "#LINKED LIST"
      ]
    },
    {
      "cell_type": "markdown",
      "metadata": {
        "id": "ET_75UqqpVpc",
        "colab_type": "text"
      },
      "source": [
        "##SINGLY LINKED LIST"
      ]
    },
    {
      "cell_type": "code",
      "metadata": {
        "id": "8PWT-4WKpbU1",
        "colab_type": "code",
        "colab": {
          "base_uri": "https://localhost:8080/",
          "height": 306
        },
        "outputId": "5ba9a019-8b62-4912-c381-c14d3f909308"
      },
      "source": [
        "class Node:\n",
        "    def __init__(self, value):\n",
        "        self.value = value\n",
        "        self.next_node = None\n",
        "\n",
        "\n",
        "class Singly_Linked_List:\n",
        "    def __init__(self):\n",
        "        self.head = None\n",
        "\n",
        "    def add_node_at_end(self, value):\n",
        "        traverser_head = self.head\n",
        "        if traverser_head:\n",
        "            while traverser_head:\n",
        "                if traverser_head.next_node:\n",
        "                    traverser_head = traverser_head.next_node\n",
        "                else:\n",
        "                    traverser_head.next_node = Node(value)\n",
        "                    break\n",
        "        else:\n",
        "            self.head = Node(value)\n",
        "\n",
        "    def remove_node_from_end(self):\n",
        "        traverser_head = self.head\n",
        "        if traverser_head:\n",
        "            if traverser_head.next_node == None:\n",
        "                del traverser_head\n",
        "                self.head = None\n",
        "            else:\n",
        "                while traverser_head:\n",
        "                    if traverser_head.next_node == None:\n",
        "                        del traverser_head\n",
        "                        self.head = None\n",
        "                    elif traverser_head.next_node.next_node:\n",
        "                        traverser_head = traverser_head.next_node\n",
        "                    else:\n",
        "                        del traverser_head.next_node.next_node\n",
        "                        traverser_head.next_node = None\n",
        "                        break\n",
        "        else:\n",
        "            print('Linked List is Empty.')\n",
        "\n",
        "\n",
        "    def add_node_at_beginning(self, value):\n",
        "        traverser_head = self.head\n",
        "        if traverser_head:\n",
        "            new_node = Node(value)\n",
        "            new_node.next_node = traverser_head\n",
        "            self.head = new_node\n",
        "        else:\n",
        "            self.head = Node(value)\n",
        "\n",
        "    def remove_node_from_beginning(self):\n",
        "        traverser_head = self.head\n",
        "        if traverser_head:\n",
        "            if traverser_head.next_node:\n",
        "                self.head = traverser_head.next_node\n",
        "                del traverser_head\n",
        "            else:\n",
        "                self.head = None\n",
        "                del traverser_head\n",
        "        else:\n",
        "            print('Linked List is Empty.')\n",
        "\n",
        "    def get_linked_list(self):\n",
        "        traverser_head = self.head\n",
        "        if traverser_head:\n",
        "            print('Head', end=' ---> ')\n",
        "            while traverser_head:\n",
        "                print(traverser_head.value, end=' ---> ')\n",
        "                traverser_head = traverser_head.next_node\n",
        "            print('None')\n",
        "        else:\n",
        "            print('Linked List is Empty.')\n",
        "\n",
        "\n",
        "if __name__== '__main__':\n",
        "    linked_list = Singly_Linked_List()\n",
        "    linked_list.get_linked_list()\n",
        "    linked_list.add_node_at_end(1)\n",
        "    linked_list.add_node_at_end(2)\n",
        "    linked_list.add_node_at_end(3)\n",
        "    linked_list.add_node_at_end(4)\n",
        "    linked_list.add_node_at_end(5)\n",
        "    linked_list.get_linked_list()\n",
        "    linked_list.remove_node_from_end()\n",
        "    linked_list.get_linked_list()\n",
        "    linked_list.remove_node_from_end()\n",
        "    linked_list.get_linked_list()\n",
        "    linked_list.remove_node_from_end()\n",
        "    linked_list.get_linked_list()\n",
        "    linked_list.remove_node_from_end()\n",
        "    linked_list.get_linked_list()\n",
        "    linked_list.remove_node_from_end()\n",
        "    linked_list.get_linked_list()\n",
        "    linked_list.add_node_at_beginning(5)\n",
        "    linked_list.get_linked_list()\n",
        "    linked_list.add_node_at_beginning(4)\n",
        "    linked_list.get_linked_list()\n",
        "    linked_list.add_node_at_beginning(3)\n",
        "    linked_list.get_linked_list()\n",
        "    linked_list.add_node_at_beginning(2)\n",
        "    linked_list.get_linked_list()\n",
        "    linked_list.add_node_at_beginning(1)\n",
        "    linked_list.get_linked_list()\n",
        "    linked_list.remove_node_from_beginning()\n",
        "    linked_list.get_linked_list()\n",
        "    linked_list.remove_node_from_beginning()\n",
        "    linked_list.get_linked_list()\n",
        "    linked_list.remove_node_from_beginning()\n",
        "    linked_list.get_linked_list()\n",
        "    linked_list.remove_node_from_beginning()\n",
        "    linked_list.get_linked_list()\n",
        "    linked_list.remove_node_from_beginning()\n",
        "    linked_list.get_linked_list()\n"
      ],
      "execution_count": 42,
      "outputs": [
        {
          "output_type": "stream",
          "text": [
            "Linked List is Empty.\n",
            "Head ---> 1 ---> 2 ---> 3 ---> 4 ---> 5 ---> None\n",
            "Head ---> 1 ---> 2 ---> 3 ---> 4 ---> None\n",
            "Head ---> 1 ---> 2 ---> 3 ---> None\n",
            "Head ---> 1 ---> 2 ---> None\n",
            "Head ---> 1 ---> None\n",
            "Linked List is Empty.\n",
            "Head ---> 5 ---> None\n",
            "Head ---> 4 ---> 5 ---> None\n",
            "Head ---> 3 ---> 4 ---> 5 ---> None\n",
            "Head ---> 2 ---> 3 ---> 4 ---> 5 ---> None\n",
            "Head ---> 1 ---> 2 ---> 3 ---> 4 ---> 5 ---> None\n",
            "Head ---> 2 ---> 3 ---> 4 ---> 5 ---> None\n",
            "Head ---> 3 ---> 4 ---> 5 ---> None\n",
            "Head ---> 4 ---> 5 ---> None\n",
            "Head ---> 5 ---> None\n",
            "Linked List is Empty.\n"
          ],
          "name": "stdout"
        }
      ]
    }
  ]
}